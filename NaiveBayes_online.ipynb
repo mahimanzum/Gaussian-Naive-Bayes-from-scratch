{
 "cells": [
  {
   "cell_type": "code",
   "execution_count": 2,
   "metadata": {},
   "outputs": [
    {
     "name": "stdout",
     "output_type": "stream",
     "text": [
      "['2 2 100\\n', '    1.7044    3.6651\\t\\t1\\n', '    1.6726    4.6705\\t\\t1\\n', '    1.4597    4.1940\\t\\t1\\n', '    1.9761    4.1965\\t\\t1\\n', '    2.1897    3.1463\\t\\t1\\n', '    1.8348    4.1139\\t\\t1\\n', '    1.7501    4.3428\\t\\t1\\n', '    1.9820    3.6816\\t\\t1\\n', '    1.9126    3.4987\\t\\t1\\n', '    1.5214    3.9072\\t\\t1\\n', '    2.6463    3.4730\\t\\t1\\n', '    2.2205    3.9642\\t\\t1\\n', '    2.6405    4.1396\\t\\t1\\n', '    1.7511    4.6866\\t\\t1\\n', '    1.4406    4.0899\\t\\t1\\n', '    2.4038    3.7290\\t\\t1\\n', '    2.0206    4.8171\\t\\t1\\n', '    1.6219    4.4126\\t\\t1\\n', '    1.9554    4.1154\\t\\t1\\n', '    0.9956    4.3358\\t\\t1\\n', '    2.5420    3.7460\\t\\t1\\n', '    1.5094    4.4282\\t\\t1\\n', '    1.6558    4.1343\\t\\t1\\n', '    2.6697    4.3125\\t\\t1\\n', '    1.5454    3.4763\\t\\t1\\n', '    1.7936    4.7678\\t\\t1\\n', '    1.7469    4.2172\\t\\t1\\n', '    2.8099    3.0414\\t\\t1\\n', '    2.0405    4.2350\\t\\t1\\n', '    1.4595    4.6372\\t\\t1\\n', '    1.4377    4.3193\\t\\t1\\n', '    2.8678    4.6904\\t\\t1\\n', '    2.9687    4.6599\\t\\t1\\n', '    2.8175    3.5453\\t\\t1\\n', '    1.3720    2.8472\\t\\t1\\n', '    1.8932    4.8944\\t\\t1\\n', '    1.9005    4.1954\\t\\t1\\n', '    2.1537    4.0102\\t\\t1\\n', '    1.7138    3.7970\\t\\t1\\n', '    1.5112    3.2326\\t\\t1\\n', '    1.7766    4.1107\\t\\t1\\n', '    2.5410    3.3128\\t\\t1\\n', '    3.1863    3.5804\\t\\t1\\n', '    2.1146    3.8957\\t\\t1\\n', '    1.8667    4.3780\\t\\t1\\n', '    2.3508    4.1879\\t\\t1\\n', '    1.7562    3.3273\\t\\t1\\n', '    2.9312    4.7409\\t\\t1\\n', '    2.5534    4.0164\\t\\t1\\n', '    1.3862    4.9352\\t\\t1\\n', '    7.3955    9.7069\\t\\t2\\n', '    7.6087   10.7687\\t\\t2\\n', '    7.6164   10.0700\\t\\t2\\n', '    7.9464    9.0686\\t\\t2\\n', '    7.5115    9.7729\\t\\t2\\n', '    7.5180    9.6740\\t\\t2\\n', '    6.8104   10.0517\\t\\t2\\n', '    7.5809    9.8897\\t\\t2\\n', '    8.1287    9.8605\\t\\t2\\n', '    7.9081    9.6332\\t\\t2\\n', '    7.9162    9.9677\\t\\t2\\n', '    7.9415    9.2780\\t\\t2\\n', '    8.0842   10.3062\\t\\t2\\n', '    7.7494    9.3382\\t\\t2\\n', '    7.6475    9.6692\\t\\t2\\n', '    8.2541    9.9269\\t\\t2\\n', '    7.7895   10.1240\\t\\t2\\n', '    8.1146    9.9617\\t\\t2\\n', '    7.5203   10.8691\\t\\t2\\n', '    7.9270   10.8110\\t\\t2\\n', '    8.3723   10.3132\\t\\t2\\n', '    7.5548   10.0459\\t\\t2\\n', '    8.0695    9.5962\\t\\t2\\n', '    7.8819    9.7693\\t\\t2\\n', '    7.9623    9.2970\\t\\t2\\n', '    7.8207    9.8127\\t\\t2\\n', '    6.9612    9.7645\\t\\t2\\n', '    7.9282   10.8756\\t\\t2\\n', '    8.6967   10.3766\\t\\t2\\n', '    8.3259   10.0325\\t\\t2\\n', '    7.8114    9.8536\\t\\t2\\n', '    7.6693   10.0414\\t\\t2\\n', '    8.1245   10.3831\\t\\t2\\n', '    7.8082   11.1184\\t\\t2\\n', '    7.7358   10.1634\\t\\t2\\n', '    8.0277   10.4317\\t\\t2\\n', '    8.6269   10.3397\\t\\t2\\n', '    6.7400   10.2774\\t\\t2\\n', '    8.2924   10.5008\\t\\t2\\n', '    7.4960   10.6297\\t\\t2\\n', '    8.4721   10.0221\\t\\t2\\n', '    6.7880    9.8429\\t\\t2\\n', '    7.8881   10.1134\\t\\t2\\n', '    8.0290   10.4983\\t\\t2\\n', '    7.7877   10.6080\\t\\t2\\n', '    7.8985    9.7286\\t\\t2\\n', '    7.2435   10.4561\\t\\t2\\n', '    7.4368    9.9139\\t\\t2\\n', '    7.5925    9.8320\\t\\t2\\n', '    8.1833   10.2707\\t\\t2']\n"
     ]
    }
   ],
   "source": [
    "with open('Train.txt', 'r') as f:\n",
    "    x = f.readlines()\n",
    "print(x)\n",
    "\n",
    "import xlrd"
   ]
  },
  {
   "cell_type": "code",
   "execution_count": 94,
   "metadata": {},
   "outputs": [
    {
     "name": "stdout",
     "output_type": "stream",
     "text": [
      "1.6726\n",
      "[1.0, 1.0, 1.0, 1.0, 1.0, 1.0, 1.0, 1.0, 1.0, 1.0, 1.0, 1.0, 1.0, 1.0, 1.0, 1.0, 1.0, 1.0, 1.0, 1.0, 1.0, 1.0, 1.0, 1.0, 1.0, 1.0, 1.0, 1.0, 1.0, 1.0, 1.0, 1.0, 1.0, 1.0, 1.0, 1.0, 1.0, 1.0, 1.0, 1.0, 1.0, 1.0, 1.0, 1.0, 1.0, 1.0, 1.0, 1.0, 1.0, 1.0, 2.0, 2.0, 2.0, 2.0, 2.0, 2.0, 2.0, 2.0, 2.0, 2.0, 2.0, 2.0, 2.0, 2.0, 2.0, 2.0, 2.0, 2.0, 2.0, 2.0, 2.0, 2.0, 2.0, 2.0, 2.0, 2.0, 2.0, 2.0, 2.0, 2.0, 2.0, 2.0, 2.0, 2.0, 2.0, 2.0, 2.0, 2.0, 2.0, 2.0, 2.0, 2.0, 2.0, 2.0, 2.0, 2.0, 2.0, 2.0, 2.0, 2.0]\n"
     ]
    }
   ],
   "source": [
    "import xlrd\n",
    "import numpy as np\n",
    "wb = xlrd.open_workbook(\"Data.xlsx\")\n",
    "sheet = wb.sheet_by_index(0)\n",
    "sheet.cell_value(0, 0)\n",
    "print(sheet.row_values(2)[0])\n",
    "\n",
    "feature1 = []\n",
    "feature2 = []\n",
    "label = []\n",
    "for i in range(1, 101):\n",
    "    feature1.append(sheet.row_values(i)[0])\n",
    "    feature2.append(sheet.row_values(i)[1])\n",
    "    label.append(sheet.row_values(i)[2])\n",
    "    \n",
    "print((label))"
   ]
  },
  {
   "cell_type": "code",
   "execution_count": 95,
   "metadata": {
    "collapsed": true
   },
   "outputs": [],
   "source": [
    "def give_mean(l):\n",
    "    sm = 0.0\n",
    "    for i in range(len(l)):\n",
    "        sm = sm + l[i]\n",
    "    return sm/len(l)\n",
    "def give_var(l,mu):\n",
    "    sm = 0.0\n",
    "    for i in range(len(l)):\n",
    "        sm = sm + (mu-l[i])*(mu-l[i])\n",
    "    return sm/len(l)\n",
    "def p_x_given_y(x, mean_y, variance_y):\n",
    "    p = 1/(np.sqrt(2*np.pi*variance_y)) * np.exp((-(x-mean_y)**2)/(2*variance_y))\n",
    "    return p"
   ]
  },
  {
   "cell_type": "code",
   "execution_count": 96,
   "metadata": {
    "collapsed": true
   },
   "outputs": [],
   "source": [
    "#print(len(feature1[50:101]))\n",
    "feature1_mean_one = give_mean(feature1[:50])\n",
    "feature1_mean_two = give_mean(feature1[50:101])\n",
    "\n",
    "feature2_mean_one = give_mean(feature2[:50])\n",
    "feature2_mean_two = give_mean(feature2[50:101])\n",
    "\n",
    "feature1_var_one = give_var(feature1[:50], feature1_mean_one)\n",
    "feature1_var_two = give_var(feature1[50:101], feature1_mean_two)\n",
    "\n",
    "feature2_var_one = give_var(feature2[:50], feature2_mean_one)\n",
    "feature2_var_two = give_var(feature2[50:101], feature2_mean_two)\n",
    "\n",
    "prob_one = 0.5\n",
    "prob_two = 0.5\n"
   ]
  },
  {
   "cell_type": "code",
   "execution_count": 97,
   "metadata": {
    "collapsed": true
   },
   "outputs": [],
   "source": [
    "#test_feature_1 = 8.1833\n",
    "#test_feature_2 = 10.27\n",
    "\n",
    "\n",
    "def predict(test_feature_1, test_feature_2):\n",
    "    prob_one_given_feature = prob_one*p_x_given_y(test_feature_1, feature1_mean_one, feature1_var_one)*p_x_given_y(test_feature_2, feature2_mean_one, feature2_var_one)\n",
    "    prob_two_given_feature = prob_two*p_x_given_y(test_feature_1, feature1_mean_two, feature1_var_two)*p_x_given_y(test_feature_2, feature2_mean_two, feature2_var_two)\n",
    "    if(prob_one_given_feature>prob_two_given_feature):\n",
    "        return 1\n",
    "    else:\n",
    "        return 2\n"
   ]
  },
  {
   "cell_type": "code",
   "execution_count": 98,
   "metadata": {},
   "outputs": [
    {
     "name": "stdout",
     "output_type": "stream",
     "text": [
      "[2.4661, 3.9251, 1.0]\n",
      "100\n"
     ]
    }
   ],
   "source": [
    "'''\n",
    "#import xls\n",
    "import pandas as pd\n",
    "import numpy as np\n",
    "wb = xlrd.open_workbook(\"Data.xlsx\")\n",
    "sheet = wb.sheet_by_index(1)\n",
    "sheet.cell_value(1, 0)\n",
    "xls = pd.ExcelFile(\"Data.xlsx\")\n",
    "sheet2 = xls.parse(1)\n",
    "print(sheet2)\n",
    "for row in sheet2:\n",
    "    print(row)\n",
    "#print(sheet.row_values(1)[0])\n",
    "'''\n",
    "\n",
    "print(array[0])\n",
    "test_feature1 = []\n",
    "test_feature2 = []\n",
    "test_label = []\n",
    "for i in range(100):\n",
    "    test_feature1.append(array[i][0])\n",
    "    test_feature2.append(array[i][1])\n",
    "    test_label.append(array[i][2])\n",
    "print(len(test_label))\n",
    "    \n",
    "#print(feature1)"
   ]
  },
  {
   "cell_type": "code",
   "execution_count": 99,
   "metadata": {},
   "outputs": [
    {
     "name": "stdout",
     "output_type": "stream",
     "text": [
      "8.4629 10.0512\n",
      "8.8757 10.9795\n",
      "1.8762 1.4066\n",
      "1.7446 1.7209\n",
      "0.96\n"
     ]
    }
   ],
   "source": [
    "correct = 0\n",
    "for i in range(len(test_feature1)):\n",
    "    #print(\"comes\")\n",
    "    if(predict(test_feature1[i], test_feature2[i]) != test_label[i]):\n",
    "        print(str(test_feature1[i]) + \" \" + str(test_feature2[i]))\n",
    "    else:\n",
    "        correct = correct + 1\n",
    "print(correct/len(test_label))\n"
   ]
  },
  {
   "cell_type": "code",
   "execution_count": null,
   "metadata": {
    "collapsed": true
   },
   "outputs": [],
   "source": []
  }
 ],
 "metadata": {
  "kernelspec": {
   "display_name": "Python 3",
   "language": "python",
   "name": "python3"
  },
  "language_info": {
   "codemirror_mode": {
    "name": "ipython",
    "version": 3
   },
   "file_extension": ".py",
   "mimetype": "text/x-python",
   "name": "python",
   "nbconvert_exporter": "python",
   "pygments_lexer": "ipython3",
   "version": "3.6.3"
  }
 },
 "nbformat": 4,
 "nbformat_minor": 2
}
